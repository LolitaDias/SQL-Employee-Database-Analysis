{
 "cells": [
  {
   "cell_type": "code",
   "execution_count": 2,
   "metadata": {},
   "outputs": [
    {
     "ename": "AttributeError",
     "evalue": "module 'preprocessing' has no attribute 'scale_and_center'",
     "output_type": "error",
     "traceback": [
      "\u001b[0;31m---------------------------------------------------------------------------\u001b[0m",
      "\u001b[0;31mAttributeError\u001b[0m                            Traceback (most recent call last)",
      "\u001b[0;32m<ipython-input-2-79cf42916816>\u001b[0m in \u001b[0;36m<module>\u001b[0;34m\u001b[0m\n\u001b[1;32m      3\u001b[0m mysql = {'user_name': 'postgres',\n\u001b[1;32m      4\u001b[0m          'password': 'postgres'}\n\u001b[0;32m----> 5\u001b[0;31m preprocessing_queue = [preprocessing.scale_and_center,\n\u001b[0m\u001b[1;32m      6\u001b[0m                        \u001b[0mpreprocessing\u001b[0m\u001b[0;34m.\u001b[0m\u001b[0mdot_reduction\u001b[0m\u001b[0;34m,\u001b[0m\u001b[0;34m\u001b[0m\u001b[0;34m\u001b[0m\u001b[0m\n\u001b[1;32m      7\u001b[0m                        preprocessing.connect_lines]\n",
      "\u001b[0;31mAttributeError\u001b[0m: module 'preprocessing' has no attribute 'scale_and_center'"
     ]
    }
   ],
   "source": [
    "#!/usr/bin/env python\n",
    "import preprocessing\n",
    "mysql = {'user_name': 'postgres',\n",
    "         'password': 'postgres'}\n",
    "preprocessing_queue = [preprocessing.scale_and_center,\n",
    "                       preprocessing.dot_reduction,\n",
    "                       preprocessing.connect_lines]\n",
    "use_anonymous = True"
   ]
  },
  {
   "cell_type": "code",
   "execution_count": null,
   "metadata": {},
   "outputs": [],
   "source": []
  }
 ],
 "metadata": {
  "kernelspec": {
   "display_name": "Python 3",
   "language": "python",
   "name": "python3"
  },
  "language_info": {
   "codemirror_mode": {
    "name": "ipython",
    "version": 3
   },
   "file_extension": ".py",
   "mimetype": "text/x-python",
   "name": "python",
   "nbconvert_exporter": "python",
   "pygments_lexer": "ipython3",
   "version": "3.7.3"
  }
 },
 "nbformat": 4,
 "nbformat_minor": 2
}
